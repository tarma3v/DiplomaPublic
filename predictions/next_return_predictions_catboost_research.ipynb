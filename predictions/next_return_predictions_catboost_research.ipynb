{
 "cells": [
  {
   "cell_type": "code",
   "execution_count": 38,
   "id": "bc940568-70ea-491b-8740-0039ddf5f42a",
   "metadata": {},
   "outputs": [],
   "source": [
    "import sys\n",
    "import os\n",
    "\n",
    "parent_dir = os.path.abspath('..')\n",
    "if parent_dir not in sys.path:\n",
    "    sys.path.insert(0, parent_dir)\n",
    "\n",
    "from features.get_merged_dataframes import get_merged_dataframes"
   ]
  },
  {
   "cell_type": "code",
   "execution_count": 39,
   "id": "df4e2dca-452c-4ecc-8f18-9b5f6b9c1e1b",
   "metadata": {},
   "outputs": [],
   "source": [
    "pair_1, pair_2 = \"BTC_USDT\", \"DOT_USDT\""
   ]
  },
  {
   "cell_type": "code",
   "execution_count": 40,
   "id": "e458813f-16ec-4ecf-bf19-c23350bd5e5f",
   "metadata": {
    "scrolled": true
   },
   "outputs": [
    {
     "name": "stdout",
     "output_type": "stream",
     "text": [
      "start: 2020-08-18 23:00:00+00:00, end: 2025-04-09 17:54:00+00:00\n"
     ]
    },
    {
     "ename": "KeyboardInterrupt",
     "evalue": "",
     "output_type": "error",
     "traceback": [
      "\u001b[31m---------------------------------------------------------------------------\u001b[39m",
      "\u001b[31mKeyboardInterrupt\u001b[39m                         Traceback (most recent call last)",
      "\u001b[36mCell\u001b[39m\u001b[36m \u001b[39m\u001b[32mIn[40]\u001b[39m\u001b[32m, line 1\u001b[39m\n\u001b[32m----> \u001b[39m\u001b[32m1\u001b[39m train_df, val_df, test_df = \u001b[43mget_merged_dataframes\u001b[49m\u001b[43m(\u001b[49m\u001b[43mpair_1\u001b[49m\u001b[43m,\u001b[49m\u001b[43m \u001b[49m\u001b[43mpair_2\u001b[49m\u001b[43m)\u001b[49m\n",
      "\u001b[36mFile \u001b[39m\u001b[32m~/DiplomaPublic/features/get_merged_dataframes.py:257\u001b[39m, in \u001b[36mget_merged_dataframes\u001b[39m\u001b[34m(pair1, pair2, generate_features_func)\u001b[39m\n\u001b[32m    255\u001b[39m data2 = pd.read_feather(\u001b[33mf\u001b[39m\u001b[33m'\u001b[39m\u001b[33m../ft_userdata/user_data/data/binance/\u001b[39m\u001b[38;5;132;01m{\u001b[39;00mpair2\u001b[38;5;132;01m}\u001b[39;00m\u001b[33m-1m.feather\u001b[39m\u001b[33m'\u001b[39m)\n\u001b[32m    256\u001b[39m data1, data2 = strip_arrays(data1, data2)\n\u001b[32m--> \u001b[39m\u001b[32m257\u001b[39m data1 = \u001b[43mgenerate_features_func\u001b[49m\u001b[43m(\u001b[49m\u001b[43mdata1\u001b[49m\u001b[43m)\u001b[49m\n\u001b[32m    258\u001b[39m data2 = generate_features_func(data2)\n\u001b[32m    259\u001b[39m merged_df = pd.merge(data1, data2, on=\u001b[33m'\u001b[39m\u001b[33mdate\u001b[39m\u001b[33m'\u001b[39m)\n",
      "\u001b[36mFile \u001b[39m\u001b[32m~/DiplomaPublic/features/get_merged_dataframes.py:162\u001b[39m, in \u001b[36mgenerate_indicators_multitimeframe\u001b[39m\u001b[34m(df)\u001b[39m\n\u001b[32m    154\u001b[39m \u001b[38;5;66;03m# --- Stochastic Indicators ---\u001b[39;00m\n\u001b[32m    155\u001b[39m \u001b[38;5;66;03m# Using finta’s STOCH, STOCHD, and STOCHRSI, where:\u001b[39;00m\n\u001b[32m    156\u001b[39m \u001b[38;5;66;03m#   STOCH returns %K,\u001b[39;00m\n\u001b[32m   (...)\u001b[39m\u001b[32m    159\u001b[39m \u001b[38;5;66;03m#\u001b[39;00m\n\u001b[32m    160\u001b[39m \u001b[38;5;66;03m# Short-Term stochastic: using period=5 (example)\u001b[39;00m\n\u001b[32m    161\u001b[39m df[\u001b[33m'\u001b[39m\u001b[33mOSC_STOCH_K_ST\u001b[39m\u001b[33m'\u001b[39m]   = TA.STOCH(df, period=\u001b[32m5\u001b[39m)\n\u001b[32m--> \u001b[39m\u001b[32m162\u001b[39m df[\u001b[33m'\u001b[39m\u001b[33mOSC_STOCH_D_ST\u001b[39m\u001b[33m'\u001b[39m]   = \u001b[43mTA\u001b[49m\u001b[43m.\u001b[49m\u001b[43mSTOCHD\u001b[49m\u001b[43m(\u001b[49m\u001b[43mdf\u001b[49m\u001b[43m,\u001b[49m\u001b[43m \u001b[49m\u001b[43mperiod\u001b[49m\u001b[43m=\u001b[49m\u001b[32;43m3\u001b[39;49m\u001b[43m,\u001b[49m\u001b[43m \u001b[49m\u001b[43mstoch_period\u001b[49m\u001b[43m=\u001b[49m\u001b[32;43m5\u001b[39;49m\u001b[43m)\u001b[49m\n\u001b[32m    163\u001b[39m df[\u001b[33m'\u001b[39m\u001b[33mOSC_STOCH_RSI_ST\u001b[39m\u001b[33m'\u001b[39m] = TA.STOCHRSI(df, rsi_period=\u001b[32m5\u001b[39m, stoch_period=\u001b[32m5\u001b[39m)\n\u001b[32m    165\u001b[39m \u001b[38;5;66;03m# Mid-Term stochastic: using period=14 (example)\u001b[39;00m\n",
      "\u001b[36mFile \u001b[39m\u001b[32m~/DiplomaPublic/env/lib/python3.11/site-packages/finta/finta.py:34\u001b[39m, in \u001b[36minputvalidator.<locals>.dfcheck.<locals>.wrap\u001b[39m\u001b[34m(*args, **kwargs)\u001b[39m\n\u001b[32m     29\u001b[39m     \u001b[38;5;28;01mif\u001b[39;00m inputs[l] \u001b[38;5;129;01mnot\u001b[39;00m \u001b[38;5;129;01min\u001b[39;00m args[i].columns:\n\u001b[32m     30\u001b[39m         \u001b[38;5;28;01mraise\u001b[39;00m \u001b[38;5;167;01mLookupError\u001b[39;00m(\n\u001b[32m     31\u001b[39m             \u001b[33m'\u001b[39m\u001b[33mMust have a dataframe column named \u001b[39m\u001b[33m\"\u001b[39m\u001b[38;5;132;01m{0}\u001b[39;00m\u001b[33m\"\u001b[39m\u001b[33m'\u001b[39m.format(inputs[l])\n\u001b[32m     32\u001b[39m         )\n\u001b[32m---> \u001b[39m\u001b[32m34\u001b[39m \u001b[38;5;28;01mreturn\u001b[39;00m \u001b[43mfunc\u001b[49m\u001b[43m(\u001b[49m\u001b[43m*\u001b[49m\u001b[43margs\u001b[49m\u001b[43m,\u001b[49m\u001b[43m \u001b[49m\u001b[43m*\u001b[49m\u001b[43m*\u001b[49m\u001b[43mkwargs\u001b[49m\u001b[43m)\u001b[49m\n",
      "\u001b[36mFile \u001b[39m\u001b[32m~/DiplomaPublic/env/lib/python3.11/site-packages/finta/finta.py:1223\u001b[39m, in \u001b[36mTA.STOCHD\u001b[39m\u001b[34m(cls, ohlc, period, stoch_period)\u001b[39m\n\u001b[32m   1216\u001b[39m \u001b[38;5;129m@classmethod\u001b[39m\n\u001b[32m   1217\u001b[39m \u001b[38;5;28;01mdef\u001b[39;00m\u001b[38;5;250m \u001b[39m\u001b[34mSTOCHD\u001b[39m(\u001b[38;5;28mcls\u001b[39m, ohlc: DataFrame, period: \u001b[38;5;28mint\u001b[39m = \u001b[32m3\u001b[39m, stoch_period: \u001b[38;5;28mint\u001b[39m = \u001b[32m14\u001b[39m) -> Series:\n\u001b[32m   1218\u001b[39m \u001b[38;5;250m    \u001b[39m\u001b[33;03m\"\"\"Stochastic oscillator %D\u001b[39;00m\n\u001b[32m   1219\u001b[39m \u001b[33;03m    STOCH%D is a 3 period simple moving average of %K.\u001b[39;00m\n\u001b[32m   1220\u001b[39m \u001b[33;03m    \"\"\"\u001b[39;00m\n\u001b[32m   1222\u001b[39m     \u001b[38;5;28;01mreturn\u001b[39;00m pd.Series(\n\u001b[32m-> \u001b[39m\u001b[32m1223\u001b[39m         \u001b[38;5;28;43mcls\u001b[39;49m\u001b[43m.\u001b[49m\u001b[43mSTOCH\u001b[49m\u001b[43m(\u001b[49m\u001b[43mohlc\u001b[49m\u001b[43m,\u001b[49m\u001b[43m \u001b[49m\u001b[43mstoch_period\u001b[49m\u001b[43m)\u001b[49m.rolling(center=\u001b[38;5;28;01mFalse\u001b[39;00m, window=period).mean(),\n\u001b[32m   1224\u001b[39m         name=\u001b[33m\"\u001b[39m\u001b[38;5;132;01m{0}\u001b[39;00m\u001b[33m period STOCH \u001b[39m\u001b[33m%\u001b[39m\u001b[33mD.\u001b[39m\u001b[33m\"\u001b[39m.format(period),\n\u001b[32m   1225\u001b[39m     )\n",
      "\u001b[36mFile \u001b[39m\u001b[32m~/DiplomaPublic/env/lib/python3.11/site-packages/finta/finta.py:34\u001b[39m, in \u001b[36minputvalidator.<locals>.dfcheck.<locals>.wrap\u001b[39m\u001b[34m(*args, **kwargs)\u001b[39m\n\u001b[32m     29\u001b[39m     \u001b[38;5;28;01mif\u001b[39;00m inputs[l] \u001b[38;5;129;01mnot\u001b[39;00m \u001b[38;5;129;01min\u001b[39;00m args[i].columns:\n\u001b[32m     30\u001b[39m         \u001b[38;5;28;01mraise\u001b[39;00m \u001b[38;5;167;01mLookupError\u001b[39;00m(\n\u001b[32m     31\u001b[39m             \u001b[33m'\u001b[39m\u001b[33mMust have a dataframe column named \u001b[39m\u001b[33m\"\u001b[39m\u001b[38;5;132;01m{0}\u001b[39;00m\u001b[33m\"\u001b[39m\u001b[33m'\u001b[39m.format(inputs[l])\n\u001b[32m     32\u001b[39m         )\n\u001b[32m---> \u001b[39m\u001b[32m34\u001b[39m \u001b[38;5;28;01mreturn\u001b[39;00m \u001b[43mfunc\u001b[49m\u001b[43m(\u001b[49m\u001b[43m*\u001b[49m\u001b[43margs\u001b[49m\u001b[43m,\u001b[49m\u001b[43m \u001b[49m\u001b[43m*\u001b[49m\u001b[43m*\u001b[49m\u001b[43mkwargs\u001b[49m\u001b[43m)\u001b[49m\n",
      "\u001b[36mFile \u001b[39m\u001b[32m~/DiplomaPublic/env/lib/python3.11/site-packages/finta/finta.py:1206\u001b[39m, in \u001b[36mTA.STOCH\u001b[39m\u001b[34m(cls, ohlc, period)\u001b[39m\n\u001b[32m   1197\u001b[39m \u001b[38;5;129m@classmethod\u001b[39m\n\u001b[32m   1198\u001b[39m \u001b[38;5;28;01mdef\u001b[39;00m\u001b[38;5;250m \u001b[39m\u001b[34mSTOCH\u001b[39m(\u001b[38;5;28mcls\u001b[39m, ohlc: DataFrame, period: \u001b[38;5;28mint\u001b[39m = \u001b[32m14\u001b[39m) -> Series:\n\u001b[32m   1199\u001b[39m \u001b[38;5;250m    \u001b[39m\u001b[33;03m\"\"\"Stochastic oscillator %K\u001b[39;00m\n\u001b[32m   1200\u001b[39m \u001b[33;03m     The stochastic oscillator is a momentum indicator comparing the closing price of a security\u001b[39;00m\n\u001b[32m   1201\u001b[39m \u001b[33;03m     to the range of its prices over a certain period of time.\u001b[39;00m\n\u001b[32m   1202\u001b[39m \u001b[33;03m     The sensitivity of the oscillator to market movements is reducible by adjusting that time\u001b[39;00m\n\u001b[32m   1203\u001b[39m \u001b[33;03m     period or by taking a moving average of the result.\u001b[39;00m\n\u001b[32m   1204\u001b[39m \u001b[33;03m    \"\"\"\u001b[39;00m\n\u001b[32m-> \u001b[39m\u001b[32m1206\u001b[39m     highest_high = \u001b[43mohlc\u001b[49m\u001b[43m[\u001b[49m\u001b[33;43m\"\u001b[39;49m\u001b[33;43mhigh\u001b[39;49m\u001b[33;43m\"\u001b[39;49m\u001b[43m]\u001b[49m\u001b[43m.\u001b[49m\u001b[43mrolling\u001b[49m\u001b[43m(\u001b[49m\u001b[43mcenter\u001b[49m\u001b[43m=\u001b[49m\u001b[38;5;28;43;01mFalse\u001b[39;49;00m\u001b[43m,\u001b[49m\u001b[43m \u001b[49m\u001b[43mwindow\u001b[49m\u001b[43m=\u001b[49m\u001b[43mperiod\u001b[49m\u001b[43m)\u001b[49m\u001b[43m.\u001b[49m\u001b[43mmax\u001b[49m\u001b[43m(\u001b[49m\u001b[43m)\u001b[49m\n\u001b[32m   1207\u001b[39m     lowest_low = ohlc[\u001b[33m\"\u001b[39m\u001b[33mlow\u001b[39m\u001b[33m\"\u001b[39m].rolling(center=\u001b[38;5;28;01mFalse\u001b[39;00m, window=period).min()\n\u001b[32m   1209\u001b[39m     STOCH = pd.Series(\n\u001b[32m   1210\u001b[39m         (ohlc[\u001b[33m\"\u001b[39m\u001b[33mclose\u001b[39m\u001b[33m\"\u001b[39m] - lowest_low) / (highest_high - lowest_low) * \u001b[32m100\u001b[39m,\n\u001b[32m   1211\u001b[39m         name=\u001b[33m\"\u001b[39m\u001b[38;5;132;01m{0}\u001b[39;00m\u001b[33m period STOCH \u001b[39m\u001b[33m%\u001b[39m\u001b[33mK\u001b[39m\u001b[33m\"\u001b[39m.format(period),\n\u001b[32m   1212\u001b[39m     )\n",
      "\u001b[36mFile \u001b[39m\u001b[32m~/DiplomaPublic/env/lib/python3.11/site-packages/pandas/core/window/rolling.py:2168\u001b[39m, in \u001b[36mRolling.max\u001b[39m\u001b[34m(self, numeric_only, engine, engine_kwargs, *args, **kwargs)\u001b[39m\n\u001b[32m   2133\u001b[39m \u001b[38;5;129m@doc\u001b[39m(\n\u001b[32m   2134\u001b[39m     template_header,\n\u001b[32m   2135\u001b[39m     create_section_header(\u001b[33m\"\u001b[39m\u001b[33mParameters\u001b[39m\u001b[33m\"\u001b[39m),\n\u001b[32m   (...)\u001b[39m\u001b[32m   2166\u001b[39m     **kwargs,\n\u001b[32m   2167\u001b[39m ):\n\u001b[32m-> \u001b[39m\u001b[32m2168\u001b[39m     \u001b[38;5;28;01mreturn\u001b[39;00m \u001b[38;5;28;43msuper\u001b[39;49m\u001b[43m(\u001b[49m\u001b[43m)\u001b[49m\u001b[43m.\u001b[49m\u001b[43mmax\u001b[49m\u001b[43m(\u001b[49m\n\u001b[32m   2169\u001b[39m \u001b[43m        \u001b[49m\u001b[43mnumeric_only\u001b[49m\u001b[43m=\u001b[49m\u001b[43mnumeric_only\u001b[49m\u001b[43m,\u001b[49m\n\u001b[32m   2170\u001b[39m \u001b[43m        \u001b[49m\u001b[43mengine\u001b[49m\u001b[43m=\u001b[49m\u001b[43mengine\u001b[49m\u001b[43m,\u001b[49m\n\u001b[32m   2171\u001b[39m \u001b[43m        \u001b[49m\u001b[43mengine_kwargs\u001b[49m\u001b[43m=\u001b[49m\u001b[43mengine_kwargs\u001b[49m\u001b[43m,\u001b[49m\n\u001b[32m   2172\u001b[39m \u001b[43m    \u001b[49m\u001b[43m)\u001b[49m\n",
      "\u001b[36mFile \u001b[39m\u001b[32m~/DiplomaPublic/env/lib/python3.11/site-packages/pandas/core/window/rolling.py:1581\u001b[39m, in \u001b[36mRollingAndExpandingMixin.max\u001b[39m\u001b[34m(self, numeric_only, engine, engine_kwargs)\u001b[39m\n\u001b[32m   1579\u001b[39m         \u001b[38;5;28;01mreturn\u001b[39;00m \u001b[38;5;28mself\u001b[39m._numba_apply(sliding_min_max, engine_kwargs, is_max=\u001b[38;5;28;01mTrue\u001b[39;00m)\n\u001b[32m   1580\u001b[39m window_func = window_aggregations.roll_max\n\u001b[32m-> \u001b[39m\u001b[32m1581\u001b[39m \u001b[38;5;28;01mreturn\u001b[39;00m \u001b[38;5;28;43mself\u001b[39;49m\u001b[43m.\u001b[49m\u001b[43m_apply\u001b[49m\u001b[43m(\u001b[49m\u001b[43mwindow_func\u001b[49m\u001b[43m,\u001b[49m\u001b[43m \u001b[49m\u001b[43mname\u001b[49m\u001b[43m=\u001b[49m\u001b[33;43m\"\u001b[39;49m\u001b[33;43mmax\u001b[39;49m\u001b[33;43m\"\u001b[39;49m\u001b[43m,\u001b[49m\u001b[43m \u001b[49m\u001b[43mnumeric_only\u001b[49m\u001b[43m=\u001b[49m\u001b[43mnumeric_only\u001b[49m\u001b[43m)\u001b[49m\n",
      "\u001b[36mFile \u001b[39m\u001b[32m~/DiplomaPublic/env/lib/python3.11/site-packages/pandas/core/window/rolling.py:619\u001b[39m, in \u001b[36mBaseWindow._apply\u001b[39m\u001b[34m(self, func, name, numeric_only, numba_args, **kwargs)\u001b[39m\n\u001b[32m    616\u001b[39m     \u001b[38;5;28;01mreturn\u001b[39;00m result\n\u001b[32m    618\u001b[39m \u001b[38;5;28;01mif\u001b[39;00m \u001b[38;5;28mself\u001b[39m.method == \u001b[33m\"\u001b[39m\u001b[33msingle\u001b[39m\u001b[33m\"\u001b[39m:\n\u001b[32m--> \u001b[39m\u001b[32m619\u001b[39m     \u001b[38;5;28;01mreturn\u001b[39;00m \u001b[38;5;28;43mself\u001b[39;49m\u001b[43m.\u001b[49m\u001b[43m_apply_columnwise\u001b[49m\u001b[43m(\u001b[49m\u001b[43mhomogeneous_func\u001b[49m\u001b[43m,\u001b[49m\u001b[43m \u001b[49m\u001b[43mname\u001b[49m\u001b[43m,\u001b[49m\u001b[43m \u001b[49m\u001b[43mnumeric_only\u001b[49m\u001b[43m)\u001b[49m\n\u001b[32m    620\u001b[39m \u001b[38;5;28;01melse\u001b[39;00m:\n\u001b[32m    621\u001b[39m     \u001b[38;5;28;01mreturn\u001b[39;00m \u001b[38;5;28mself\u001b[39m._apply_tablewise(homogeneous_func, name, numeric_only)\n",
      "\u001b[36mFile \u001b[39m\u001b[32m~/DiplomaPublic/env/lib/python3.11/site-packages/pandas/core/window/rolling.py:472\u001b[39m, in \u001b[36mBaseWindow._apply_columnwise\u001b[39m\u001b[34m(self, homogeneous_func, name, numeric_only)\u001b[39m\n\u001b[32m    470\u001b[39m \u001b[38;5;28mself\u001b[39m._validate_numeric_only(name, numeric_only)\n\u001b[32m    471\u001b[39m \u001b[38;5;28;01mif\u001b[39;00m \u001b[38;5;28mself\u001b[39m._selected_obj.ndim == \u001b[32m1\u001b[39m:\n\u001b[32m--> \u001b[39m\u001b[32m472\u001b[39m     \u001b[38;5;28;01mreturn\u001b[39;00m \u001b[38;5;28;43mself\u001b[39;49m\u001b[43m.\u001b[49m\u001b[43m_apply_series\u001b[49m\u001b[43m(\u001b[49m\u001b[43mhomogeneous_func\u001b[49m\u001b[43m,\u001b[49m\u001b[43m \u001b[49m\u001b[43mname\u001b[49m\u001b[43m)\u001b[49m\n\u001b[32m    474\u001b[39m obj = \u001b[38;5;28mself\u001b[39m._create_data(\u001b[38;5;28mself\u001b[39m._selected_obj, numeric_only)\n\u001b[32m    475\u001b[39m \u001b[38;5;28;01mif\u001b[39;00m name == \u001b[33m\"\u001b[39m\u001b[33mcount\u001b[39m\u001b[33m\"\u001b[39m:\n\u001b[32m    476\u001b[39m     \u001b[38;5;66;03m# GH 12541: Special case for count where we support date-like types\u001b[39;00m\n",
      "\u001b[36mFile \u001b[39m\u001b[32m~/DiplomaPublic/env/lib/python3.11/site-packages/pandas/core/window/rolling.py:456\u001b[39m, in \u001b[36mBaseWindow._apply_series\u001b[39m\u001b[34m(self, homogeneous_func, name)\u001b[39m\n\u001b[32m    453\u001b[39m \u001b[38;5;28;01mexcept\u001b[39;00m (\u001b[38;5;167;01mTypeError\u001b[39;00m, \u001b[38;5;167;01mNotImplementedError\u001b[39;00m) \u001b[38;5;28;01mas\u001b[39;00m err:\n\u001b[32m    454\u001b[39m     \u001b[38;5;28;01mraise\u001b[39;00m DataError(\u001b[33m\"\u001b[39m\u001b[33mNo numeric types to aggregate\u001b[39m\u001b[33m\"\u001b[39m) \u001b[38;5;28;01mfrom\u001b[39;00m\u001b[38;5;250m \u001b[39m\u001b[34;01merr\u001b[39;00m\n\u001b[32m--> \u001b[39m\u001b[32m456\u001b[39m result = \u001b[43mhomogeneous_func\u001b[49m\u001b[43m(\u001b[49m\u001b[43mvalues\u001b[49m\u001b[43m)\u001b[49m\n\u001b[32m    457\u001b[39m index = \u001b[38;5;28mself\u001b[39m._slice_axis_for_step(obj.index, result)\n\u001b[32m    458\u001b[39m \u001b[38;5;28;01mreturn\u001b[39;00m obj._constructor(result, index=index, name=obj.name)\n",
      "\u001b[36mFile \u001b[39m\u001b[32m~/DiplomaPublic/env/lib/python3.11/site-packages/pandas/core/window/rolling.py:614\u001b[39m, in \u001b[36mBaseWindow._apply.<locals>.homogeneous_func\u001b[39m\u001b[34m(values)\u001b[39m\n\u001b[32m    611\u001b[39m     \u001b[38;5;28;01mreturn\u001b[39;00m func(x, start, end, min_periods, *numba_args)\n\u001b[32m    613\u001b[39m \u001b[38;5;28;01mwith\u001b[39;00m np.errstate(\u001b[38;5;28mall\u001b[39m=\u001b[33m\"\u001b[39m\u001b[33mignore\u001b[39m\u001b[33m\"\u001b[39m):\n\u001b[32m--> \u001b[39m\u001b[32m614\u001b[39m     result = \u001b[43mcalc\u001b[49m\u001b[43m(\u001b[49m\u001b[43mvalues\u001b[49m\u001b[43m)\u001b[49m\n\u001b[32m    616\u001b[39m \u001b[38;5;28;01mreturn\u001b[39;00m result\n",
      "\u001b[36mFile \u001b[39m\u001b[32m~/DiplomaPublic/env/lib/python3.11/site-packages/pandas/core/window/rolling.py:602\u001b[39m, in \u001b[36mBaseWindow._apply.<locals>.homogeneous_func.<locals>.calc\u001b[39m\u001b[34m(x)\u001b[39m\n\u001b[32m    601\u001b[39m \u001b[38;5;28;01mdef\u001b[39;00m\u001b[38;5;250m \u001b[39m\u001b[34mcalc\u001b[39m(x):\n\u001b[32m--> \u001b[39m\u001b[32m602\u001b[39m     start, end = \u001b[43mwindow_indexer\u001b[49m\u001b[43m.\u001b[49m\u001b[43mget_window_bounds\u001b[49m\u001b[43m(\u001b[49m\n\u001b[32m    603\u001b[39m \u001b[43m        \u001b[49m\u001b[43mnum_values\u001b[49m\u001b[43m=\u001b[49m\u001b[38;5;28;43mlen\u001b[39;49m\u001b[43m(\u001b[49m\u001b[43mx\u001b[49m\u001b[43m)\u001b[49m\u001b[43m,\u001b[49m\n\u001b[32m    604\u001b[39m \u001b[43m        \u001b[49m\u001b[43mmin_periods\u001b[49m\u001b[43m=\u001b[49m\u001b[43mmin_periods\u001b[49m\u001b[43m,\u001b[49m\n\u001b[32m    605\u001b[39m \u001b[43m        \u001b[49m\u001b[43mcenter\u001b[49m\u001b[43m=\u001b[49m\u001b[38;5;28;43mself\u001b[39;49m\u001b[43m.\u001b[49m\u001b[43mcenter\u001b[49m\u001b[43m,\u001b[49m\n\u001b[32m    606\u001b[39m \u001b[43m        \u001b[49m\u001b[43mclosed\u001b[49m\u001b[43m=\u001b[49m\u001b[38;5;28;43mself\u001b[39;49m\u001b[43m.\u001b[49m\u001b[43mclosed\u001b[49m\u001b[43m,\u001b[49m\n\u001b[32m    607\u001b[39m \u001b[43m        \u001b[49m\u001b[43mstep\u001b[49m\u001b[43m=\u001b[49m\u001b[38;5;28;43mself\u001b[39;49m\u001b[43m.\u001b[49m\u001b[43mstep\u001b[49m\u001b[43m,\u001b[49m\n\u001b[32m    608\u001b[39m \u001b[43m    \u001b[49m\u001b[43m)\u001b[49m\n\u001b[32m    609\u001b[39m     \u001b[38;5;28mself\u001b[39m._check_window_bounds(start, end, \u001b[38;5;28mlen\u001b[39m(x))\n\u001b[32m    611\u001b[39m     \u001b[38;5;28;01mreturn\u001b[39;00m func(x, start, end, min_periods, *numba_args)\n",
      "\u001b[36mFile \u001b[39m\u001b[32m~/DiplomaPublic/env/lib/python3.11/site-packages/pandas/core/indexers/objects.py:118\u001b[39m, in \u001b[36mFixedWindowIndexer.get_window_bounds\u001b[39m\u001b[34m(self, num_values, min_periods, center, closed, step)\u001b[39m\n\u001b[32m    115\u001b[39m     end -= \u001b[32m1\u001b[39m\n\u001b[32m    117\u001b[39m end = np.clip(end, \u001b[32m0\u001b[39m, num_values)\n\u001b[32m--> \u001b[39m\u001b[32m118\u001b[39m start = \u001b[43mnp\u001b[49m\u001b[43m.\u001b[49m\u001b[43mclip\u001b[49m\u001b[43m(\u001b[49m\u001b[43mstart\u001b[49m\u001b[43m,\u001b[49m\u001b[43m \u001b[49m\u001b[32;43m0\u001b[39;49m\u001b[43m,\u001b[49m\u001b[43m \u001b[49m\u001b[43mnum_values\u001b[49m\u001b[43m)\u001b[49m\n\u001b[32m    120\u001b[39m \u001b[38;5;28;01mreturn\u001b[39;00m start, end\n",
      "\u001b[36mFile \u001b[39m\u001b[32m~/DiplomaPublic/env/lib/python3.11/site-packages/numpy/core/fromnumeric.py:2169\u001b[39m, in \u001b[36mclip\u001b[39m\u001b[34m(a, a_min, a_max, out, **kwargs)\u001b[39m\n\u001b[32m   2100\u001b[39m \u001b[38;5;129m@array_function_dispatch\u001b[39m(_clip_dispatcher)\n\u001b[32m   2101\u001b[39m \u001b[38;5;28;01mdef\u001b[39;00m\u001b[38;5;250m \u001b[39m\u001b[34mclip\u001b[39m(a, a_min, a_max, out=\u001b[38;5;28;01mNone\u001b[39;00m, **kwargs):\n\u001b[32m   2102\u001b[39m \u001b[38;5;250m    \u001b[39m\u001b[33;03m\"\"\"\u001b[39;00m\n\u001b[32m   2103\u001b[39m \u001b[33;03m    Clip (limit) the values in an array.\u001b[39;00m\n\u001b[32m   2104\u001b[39m \n\u001b[32m   (...)\u001b[39m\u001b[32m   2167\u001b[39m \n\u001b[32m   2168\u001b[39m \u001b[33;03m    \"\"\"\u001b[39;00m\n\u001b[32m-> \u001b[39m\u001b[32m2169\u001b[39m     \u001b[38;5;28;01mreturn\u001b[39;00m \u001b[43m_wrapfunc\u001b[49m\u001b[43m(\u001b[49m\u001b[43ma\u001b[49m\u001b[43m,\u001b[49m\u001b[43m \u001b[49m\u001b[33;43m'\u001b[39;49m\u001b[33;43mclip\u001b[39;49m\u001b[33;43m'\u001b[39;49m\u001b[43m,\u001b[49m\u001b[43m \u001b[49m\u001b[43ma_min\u001b[49m\u001b[43m,\u001b[49m\u001b[43m \u001b[49m\u001b[43ma_max\u001b[49m\u001b[43m,\u001b[49m\u001b[43m \u001b[49m\u001b[43mout\u001b[49m\u001b[43m=\u001b[49m\u001b[43mout\u001b[49m\u001b[43m,\u001b[49m\u001b[43m \u001b[49m\u001b[43m*\u001b[49m\u001b[43m*\u001b[49m\u001b[43mkwargs\u001b[49m\u001b[43m)\u001b[49m\n",
      "\u001b[36mFile \u001b[39m\u001b[32m~/DiplomaPublic/env/lib/python3.11/site-packages/numpy/core/fromnumeric.py:59\u001b[39m, in \u001b[36m_wrapfunc\u001b[39m\u001b[34m(obj, method, *args, **kwds)\u001b[39m\n\u001b[32m     56\u001b[39m     \u001b[38;5;28;01mreturn\u001b[39;00m _wrapit(obj, method, *args, **kwds)\n\u001b[32m     58\u001b[39m \u001b[38;5;28;01mtry\u001b[39;00m:\n\u001b[32m---> \u001b[39m\u001b[32m59\u001b[39m     \u001b[38;5;28;01mreturn\u001b[39;00m \u001b[43mbound\u001b[49m\u001b[43m(\u001b[49m\u001b[43m*\u001b[49m\u001b[43margs\u001b[49m\u001b[43m,\u001b[49m\u001b[43m \u001b[49m\u001b[43m*\u001b[49m\u001b[43m*\u001b[49m\u001b[43mkwds\u001b[49m\u001b[43m)\u001b[49m\n\u001b[32m     60\u001b[39m \u001b[38;5;28;01mexcept\u001b[39;00m \u001b[38;5;167;01mTypeError\u001b[39;00m:\n\u001b[32m     61\u001b[39m     \u001b[38;5;66;03m# A TypeError occurs if the object does have such a method in its\u001b[39;00m\n\u001b[32m     62\u001b[39m     \u001b[38;5;66;03m# class, but its signature is not identical to that of NumPy's. This\u001b[39;00m\n\u001b[32m   (...)\u001b[39m\u001b[32m     66\u001b[39m     \u001b[38;5;66;03m# Call _wrapit from within the except clause to ensure a potential\u001b[39;00m\n\u001b[32m     67\u001b[39m     \u001b[38;5;66;03m# exception has a traceback chain.\u001b[39;00m\n\u001b[32m     68\u001b[39m     \u001b[38;5;28;01mreturn\u001b[39;00m _wrapit(obj, method, *args, **kwds)\n",
      "\u001b[36mFile \u001b[39m\u001b[32m~/DiplomaPublic/env/lib/python3.11/site-packages/numpy/core/_methods.py:99\u001b[39m, in \u001b[36m_clip\u001b[39m\u001b[34m(a, min, max, out, **kwargs)\u001b[39m\n\u001b[32m     97\u001b[39m     \u001b[38;5;28;01mreturn\u001b[39;00m um.maximum(a, \u001b[38;5;28mmin\u001b[39m, out=out, **kwargs)\n\u001b[32m     98\u001b[39m \u001b[38;5;28;01melse\u001b[39;00m:\n\u001b[32m---> \u001b[39m\u001b[32m99\u001b[39m     \u001b[38;5;28;01mreturn\u001b[39;00m \u001b[43mum\u001b[49m\u001b[43m.\u001b[49m\u001b[43mclip\u001b[49m\u001b[43m(\u001b[49m\u001b[43ma\u001b[49m\u001b[43m,\u001b[49m\u001b[43m \u001b[49m\u001b[38;5;28;43mmin\u001b[39;49m\u001b[43m,\u001b[49m\u001b[43m \u001b[49m\u001b[38;5;28;43mmax\u001b[39;49m\u001b[43m,\u001b[49m\u001b[43m \u001b[49m\u001b[43mout\u001b[49m\u001b[43m=\u001b[49m\u001b[43mout\u001b[49m\u001b[43m,\u001b[49m\u001b[43m \u001b[49m\u001b[43m*\u001b[49m\u001b[43m*\u001b[49m\u001b[43mkwargs\u001b[49m\u001b[43m)\u001b[49m\n",
      "\u001b[31mKeyboardInterrupt\u001b[39m: "
     ]
    }
   ],
   "source": [
    "train_df, val_df, test_df = get_merged_dataframes(pair_1, pair_2)"
   ]
  },
  {
   "cell_type": "markdown",
   "id": "1f807795-0379-474f-91d0-f96595f0511a",
   "metadata": {},
   "source": [
    "Добавим колонку target - это close_y для следующей свечи"
   ]
  },
  {
   "cell_type": "code",
   "execution_count": null,
   "id": "972a8d68-e412-4e70-bed3-a4046c12e4d7",
   "metadata": {},
   "outputs": [],
   "source": [
    "df = train_df.copy()"
   ]
  },
  {
   "cell_type": "code",
   "execution_count": null,
   "id": "fc6e8ae2-c1a9-425f-b530-152bc5d7fc40",
   "metadata": {},
   "outputs": [],
   "source": [
    "df['target'] = df['close_y'].shift(-1) / df['close_y']"
   ]
  },
  {
   "cell_type": "code",
   "execution_count": null,
   "id": "f64389da-db75-4ff8-8d59-f86eedfd9b3f",
   "metadata": {},
   "outputs": [],
   "source": [
    "df = df.iloc[:-1]"
   ]
  },
  {
   "cell_type": "markdown",
   "id": "55653bf7-baca-413a-b294-3e98027008e5",
   "metadata": {},
   "source": [
    "Будем обучаться на окне фиксированной длины, считать ошибку на валидации, сдвигать окно, заново учиться и считать ошибку на новой валидации и так далее"
   ]
  },
  {
   "cell_type": "code",
   "execution_count": 43,
   "id": "a864aa5f-6427-4863-9f98-94ca9da033b1",
   "metadata": {
    "scrolled": true
   },
   "outputs": [
    {
     "name": "stdout",
     "output_type": "stream",
     "text": [
      "Validation RMSE : 0.0007607454252190079\n"
     ]
    }
   ],
   "source": [
    "target = 'target'\n",
    "\n",
    "features = df.columns.drop(['date', 'target'])\n",
    "\n",
    "train_ratio = 0.8\n",
    "N = len(df)\n",
    "train_size = int(N * train_ratio)\n",
    "\n",
    "train_data = df.iloc[0:train_size]\n",
    "val_data = df.iloc[train_size:N]\n",
    "\n",
    "train_pool = Pool(data=train_data[features], label=train_data[target])\n",
    "val_pool = Pool(data=val_data[features], label=val_data[target])\n",
    "\n",
    "model = CatBoostRegressor(iterations=100, depth=7, learning_rate=0.08, loss_function='RMSE', verbose=False)\n",
    "model.fit(train_pool, eval_set=val_pool)\n",
    "\n",
    "val_predictions = model.predict(val_data[features])\n",
    "rmse = root_mean_squared_error(val_data[target], val_predictions)\n",
    "catboost_rmse_scores.append(rmse)\n",
    "\n",
    "print(f'Validation RMSE : {rmse}')"
   ]
  },
  {
   "cell_type": "code",
   "execution_count": 44,
   "id": "da1dccdc-116d-455a-965d-82394ddc296a",
   "metadata": {
    "scrolled": true
   },
   "outputs": [
    {
     "name": "stdout",
     "output_type": "stream",
     "text": [
      "                  feature  importance\n",
      "88       OSC_STOCH_K_ST_y   47.786208\n",
      "5       RAW_prev_return_x   17.549898\n",
      "12            MA_EMA_LT_x   13.541909\n",
      "85   OSC_MACD_SIGNAL_MT_y    8.715619\n",
      "75            MA_EMA_ST_y    7.129743\n",
      "103          MOM_ADX_ST_y    5.276624\n",
      "0                  open_x    0.000000\n",
      "86          OSC_MACD_LT_y    0.000000\n",
      "87   OSC_MACD_SIGNAL_LT_y    0.000000\n",
      "89       OSC_STOCH_D_ST_y    0.000000\n",
      "90     OSC_STOCH_RSI_ST_y    0.000000\n",
      "83   OSC_MACD_SIGNAL_ST_y    0.000000\n",
      "91       OSC_STOCH_K_MT_y    0.000000\n",
      "92       OSC_STOCH_D_MT_y    0.000000\n",
      "93     OSC_STOCH_RSI_MT_y    0.000000\n",
      "94       OSC_STOCH_K_LT_y    0.000000\n",
      "95       OSC_STOCH_D_LT_y    0.000000\n",
      "84          OSC_MACD_MT_y    0.000000\n",
      "81           OSC_RSI_LT_y    0.000000\n",
      "82          OSC_MACD_ST_y    0.000000\n"
     ]
    }
   ],
   "source": [
    "feature_importances = model.get_feature_importance()\n",
    "importance_df = pd.DataFrame({'feature': features, 'importance': feature_importances})\n",
    "importance_df.sort_values(by='importance', ascending=False, inplace=True)\n",
    "print(importance_df.head(20))"
   ]
  },
  {
   "cell_type": "code",
   "execution_count": null,
   "id": "affab851-f4fc-480a-97c3-034d3c29a1de",
   "metadata": {},
   "outputs": [],
   "source": []
  },
  {
   "cell_type": "code",
   "execution_count": null,
   "id": "8490f999-26d5-46cb-b535-840f52d4612e",
   "metadata": {},
   "outputs": [],
   "source": []
  },
  {
   "cell_type": "code",
   "execution_count": null,
   "id": "7585d562-8d1b-49cb-98b7-2d024712f7f7",
   "metadata": {},
   "outputs": [],
   "source": []
  },
  {
   "cell_type": "code",
   "execution_count": 45,
   "id": "a1030925-0962-4451-8aa7-607a82184b68",
   "metadata": {},
   "outputs": [
    {
     "data": {
      "image/png": "[encoded data removed]",
      "text/plain": [
       "<Figure size 640x480 with 1 Axes>"
      ]
     },
     "metadata": {},
     "output_type": "display_data"
    }
   ],
   "source": [
    "import matplotlib.pyplot as plt\n",
    "plt.hist(10000 * (val_predictions - 1), bins=500)\n",
    "plt.yscale('log')\n",
    "plt.show()"
   ]
  },
  {
   "cell_type": "code",
   "execution_count": 46,
   "id": "9c8eb6a6-fa5c-4663-9cb9-41a2e5c77346",
   "metadata": {},
   "outputs": [
    {
     "data": {
      "image/png": "[encoded data removed]",
      "text/plain": [
       "<Figure size 640x480 with 1 Axes>"
      ]
     },
     "metadata": {},
     "output_type": "display_data"
    }
   ],
   "source": [
    "import matplotlib.pyplot as plt\n",
    "plt.hist(10000 * (val_data[target] - 1), bins=500)\n",
    "plt.yscale('log')\n",
    "plt.show()"
   ]
  },
  {
   "cell_type": "code",
   "execution_count": null,
   "id": "48cc3301-d15f-4a3c-8575-a0465d4904e5",
   "metadata": {},
   "outputs": [],
   "source": []
  },
  {
   "cell_type": "code",
   "execution_count": null,
   "id": "3fc0da34-0638-4d20-a22e-14a0426bfbbf",
   "metadata": {},
   "outputs": [],
   "source": []
  },
  {
   "cell_type": "code",
   "execution_count": 53,
   "id": "b5d69791-b274-4c26-bd92-a26e00d5f161",
   "metadata": {},
   "outputs": [
    {
     "name": "stdout",
     "output_type": "stream",
     "text": [
      "Validation RMSE : 0.0007607454252190079\n",
      "                  feature  importance\n",
      "88       OSC_STOCH_K_ST_y   47.786208\n",
      "5       RAW_prev_return_x   17.549898\n",
      "12            MA_EMA_LT_x   13.541909\n",
      "85   OSC_MACD_SIGNAL_MT_y    8.715619\n",
      "75            MA_EMA_ST_y    7.129743\n",
      "103          MOM_ADX_ST_y    5.276624\n",
      "0                  open_x    0.000000\n",
      "86          OSC_MACD_LT_y    0.000000\n",
      "87   OSC_MACD_SIGNAL_LT_y    0.000000\n",
      "89       OSC_STOCH_D_ST_y    0.000000\n",
      "90     OSC_STOCH_RSI_ST_y    0.000000\n",
      "83   OSC_MACD_SIGNAL_ST_y    0.000000\n",
      "91       OSC_STOCH_K_MT_y    0.000000\n",
      "92       OSC_STOCH_D_MT_y    0.000000\n",
      "93     OSC_STOCH_RSI_MT_y    0.000000\n",
      "94       OSC_STOCH_K_LT_y    0.000000\n",
      "95       OSC_STOCH_D_LT_y    0.000000\n",
      "84          OSC_MACD_MT_y    0.000000\n",
      "81           OSC_RSI_LT_y    0.000000\n",
      "82          OSC_MACD_ST_y    0.000000\n"
     ]
    }
   ],
   "source": [
    "from catboost import CatBoostRegressor, Pool\n",
    "import pandas as pd\n",
    "\n",
    "target = 'target'\n",
    "features = df.columns.drop(['date', 'target'])\n",
    "\n",
    "train_ratio = 0.8\n",
    "N = len(df)\n",
    "train_size = int(N * train_ratio)\n",
    "\n",
    "train_data = df.iloc[:train_size]\n",
    "val_data = df.iloc[train_size:]\n",
    "\n",
    "train_pool = Pool(data=train_data[features], label=train_data[target])\n",
    "val_pool = Pool(data=val_data[features], label=val_data[target])\n",
    "\n",
    "# Initialize the CatBoost Regressor with modified parameters:\n",
    "# - iterations: increased to give the model more opportunities for learning\n",
    "# - rsm: set to 1.0 to use all features when finding splits\n",
    "model = CatBoostRegressor(\n",
    "    iterations=300,      # Increase the number of boosting iterations\n",
    "    depth=7,\n",
    "    learning_rate=0.08,\n",
    "    loss_function='RMSE',\n",
    "    rsm=1.0,             # Use all features for split finding\n",
    "    verbose=False\n",
    ")\n",
    "\n",
    "# Training the model with evaluation on the validation set\n",
    "model.fit(train_pool, eval_set=val_pool)\n",
    "\n",
    "# Make predictions on the validation set and calculate RMSE\n",
    "val_predictions = model.predict(val_data[features])\n",
    "rmse = root_mean_squared_error(val_data[target], val_predictions)\n",
    "catboost_rmse_scores.append(rmse)\n",
    "\n",
    "print(f'Validation RMSE : {rmse}')\n",
    "\n",
    "# Get feature importances and display the top 20\n",
    "feature_importances = model.get_feature_importance()\n",
    "importance_df = pd.DataFrame({'feature': features, 'importance': feature_importances})\n",
    "importance_df.sort_values(by='importance', ascending=False, inplace=True)\n",
    "print(importance_df.head(20))"
   ]
  },
  {
   "cell_type": "code",
   "execution_count": 54,
   "id": "707da536-dc2b-41e0-924d-e94bbd7f2370",
   "metadata": {},
   "outputs": [
    {
     "data": {
      "image/png": "[encoded data removed]",
      "text/plain": [
       "<Figure size 640x480 with 1 Axes>"
      ]
     },
     "metadata": {},
     "output_type": "display_data"
    }
   ],
   "source": [
    "import matplotlib.pyplot as plt\n",
    "plt.hist(10000 * (val_predictions - 1), bins=500)\n",
    "plt.yscale('log')\n",
    "plt.show()"
   ]
  },
  {
   "cell_type": "code",
   "execution_count": null,
   "id": "a63811df-7361-438a-ae84-b5e35b4a2a07",
   "metadata": {},
   "outputs": [],
   "source": []
  },
  {
   "cell_type": "code",
   "execution_count": null,
   "id": "50ff8a69-903c-4de0-8eb0-d449f65b168b",
   "metadata": {},
   "outputs": [],
   "source": []
  },
  {
   "cell_type": "code",
   "execution_count": null,
   "id": "58006a50-f007-4d08-b218-a1ca7686fe88",
   "metadata": {},
   "outputs": [],
   "source": []
  }
 ],
 "metadata": {
  "kernelspec": {
   "display_name": "Python 3 (ipykernel)",
   "language": "python",
   "name": "python3"
  },
  "language_info": {
   "codemirror_mode": {
    "name": "ipython",
    "version": 3
   },
   "file_extension": ".py",
   "mimetype": "text/x-python",
   "name": "python",
   "nbconvert_exporter": "python",
   "pygments_lexer": "ipython3",
   "version": "3.11.8"
  }
 },
 "nbformat": 4,
 "nbformat_minor": 5
}
