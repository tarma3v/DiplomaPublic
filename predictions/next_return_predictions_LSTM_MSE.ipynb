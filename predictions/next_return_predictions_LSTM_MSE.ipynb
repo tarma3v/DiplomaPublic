{
 "cells": [
  {
   "cell_type": "code",
   "execution_count": 1,
   "id": "336fea54-c767-4e62-923a-c971240f5fcd",
   "metadata": {},
   "outputs": [],
   "source": [
    "import sys\n",
    "import os\n",
    "\n",
    "parent_dir = os.path.abspath('..')\n",
    "if parent_dir not in sys.path:\n",
    "    sys.path.insert(0, parent_dir)\n",
    "\n",
    "from features.get_merged_dataframes import get_merged_dataframes"
   ]
  },
  {
   "cell_type": "code",
   "execution_count": 2,
   "id": "9d725698-a6a9-40cd-bf81-5b222f4c9712",
   "metadata": {},
   "outputs": [],
   "source": [
    "pair_1, pair_2 = \"BTC_USDT\", \"DOT_USDT\""
   ]
  },
  {
   "cell_type": "code",
   "execution_count": 3,
   "id": "3f4da4f4-3965-428a-aac7-bdea9de714b1",
   "metadata": {
    "scrolled": true
   },
   "outputs": [
    {
     "name": "stdout",
     "output_type": "stream",
     "text": [
      "start: 2020-08-18 23:00:00+00:00, end: 2025-04-09 17:54:00+00:00\n"
     ]
    }
   ],
   "source": [
    "train_df, val_df, test_df = get_merged_dataframes(pair_1, pair_2)"
   ]
  },
  {
   "cell_type": "code",
   "execution_count": 4,
   "id": "06736821-d65b-4a95-9c59-a69d50d4cffb",
   "metadata": {},
   "outputs": [],
   "source": [
    "df = train_df.copy()\n",
    "df['target'] = 10000 * (df['close_y'].shift(-1) / df['close_y'] - 1)\n",
    "df = df.iloc[:-1]"
   ]
  },
  {
   "cell_type": "code",
   "execution_count": null,
   "id": "adc1d717-ebc6-4334-9976-24a65c1fad1c",
   "metadata": {},
   "outputs": [],
   "source": []
  },
  {
   "cell_type": "code",
   "execution_count": null,
   "id": "f86385bd-9b35-4d4e-8079-7fa33b3d570f",
   "metadata": {},
   "outputs": [],
   "source": []
  },
  {
   "cell_type": "code",
   "execution_count": null,
   "id": "84bc842e-181e-4b3a-a7c8-ecb2fb7948e6",
   "metadata": {},
   "outputs": [],
   "source": []
  },
  {
   "cell_type": "code",
   "execution_count": 5,
   "id": "f725b5a9-56d9-4c06-b1a8-eaeb1f797404",
   "metadata": {},
   "outputs": [],
   "source": [
    "import tensorflow as tf\n",
    "from tensorflow.keras.models import Sequential\n",
    "from tensorflow.keras.layers import LSTM, Dense, Dropout, Input\n",
    "from tensorflow.keras import Input\n",
    "from sklearn.preprocessing import MinMaxScaler\n",
    "from sklearn.model_selection import train_test_split\n",
    "import numpy as np\n",
    "import matplotlib.pyplot as plt"
   ]
  },
  {
   "cell_type": "code",
   "execution_count": 6,
   "id": "1fac378b-d6ff-4848-8042-45fe5104ef01",
   "metadata": {},
   "outputs": [],
   "source": [
    "feature_cols = df.columns.drop(['date', 'target']).to_list()\n",
    "target_col = 'target'\n",
    "\n",
    "X = df[feature_cols].values\n",
    "y = df[target_col].values\n",
    "\n",
    "scaler_x = MinMaxScaler()\n",
    "scaler_y = MinMaxScaler()\n",
    "X_scaled = scaler_x.fit_transform(X)\n",
    "y_scaled = scaler_y.fit_transform(y.reshape(-1, 1))\n",
    "\n",
    "X_lstm = []\n",
    "y_lstm = []\n",
    "for i in range(len(X_scaled)):\n",
    "    X_lstm.append(X_scaled[i])\n",
    "    y_lstm.append(y_scaled[i])\n",
    "X_lstm, y_lstm = np.array(X_lstm), np.array(y_lstm)\n",
    "\n",
    "X_train, X_valid, y_train, y_valid = train_test_split(X_lstm, y_lstm, test_size=0.2, shuffle=False)"
   ]
  },
  {
   "cell_type": "code",
   "execution_count": 10,
   "id": "94bb9251-2fd8-4685-bb9b-621ca0b644ff",
   "metadata": {},
   "outputs": [
    {
     "data": {
      "text/plain": [
       "(985897, 130)"
      ]
     },
     "execution_count": 10,
     "metadata": {},
     "output_type": "execute_result"
    }
   ],
   "source": [
    "X_lstm.shape"
   ]
  },
  {
   "cell_type": "code",
   "execution_count": null,
   "id": "7a0fd25d-d293-42d3-a438-37081ecfaa6b",
   "metadata": {},
   "outputs": [],
   "source": []
  },
  {
   "cell_type": "code",
   "execution_count": 13,
   "id": "cb5938b3-a5ab-4294-8111-d545aca52616",
   "metadata": {},
   "outputs": [
    {
     "name": "stdout",
     "output_type": "stream",
     "text": [
      "\u001b[1m3081/3081\u001b[0m \u001b[32m━━━━━━━━━━━━━━━━━━━━\u001b[0m\u001b[37m\u001b[0m \u001b[1m715s\u001b[0m 232ms/step - loss: 0.0021 - val_loss: 1.3054e-05\n",
      "\u001b[1m6162/6162\u001b[0m \u001b[32m━━━━━━━━━━━━━━━━━━━━\u001b[0m\u001b[37m\u001b[0m \u001b[1m74s\u001b[0m 12ms/step\n",
      "RMSE: 17.357319963117874\n"
     ]
    }
   ],
   "source": [
    "model = Sequential([\n",
    "    Input(shape=(1, 1)),\n",
    "    LSTM(64, return_sequences=True),\n",
    "    Dropout(0.3),\n",
    "    LSTM(32, return_sequences=False),\n",
    "    Dropout(0.3),\n",
    "    Dense(1)\n",
    "])\n",
    "\n",
    "model.compile(optimizer='adam', loss='mse')\n",
    "model.fit(X_train, y_train, epochs=1, batch_size=256, validation_data=(X_valid, y_valid))\n",
    "\n",
    "y_pred = model.predict(X_valid)\n",
    "y_pred = scaler_y.inverse_transform(y_pred)\n",
    "\n",
    "rmse = np.mean((y_pred - scaler_y.inverse_transform(y_valid))**2)**0.5\n",
    "print(f'RMSE: {rmse}')"
   ]
  },
  {
   "cell_type": "code",
   "execution_count": 18,
   "id": "7113f19a-4ad4-4f9e-adcd-0c32c3de1c43",
   "metadata": {},
   "outputs": [
    {
     "data": {
      "image/png": "[encoded data removed]",
      "text/plain": [
       "<Figure size 640x480 with 1 Axes>"
      ]
     },
     "metadata": {},
     "output_type": "display_data"
    }
   ],
   "source": [
    "plt.hist(y_pred, bins=30)\n",
    "plt.show()"
   ]
  },
  {
   "cell_type": "code",
   "execution_count": 21,
   "id": "3fd6c09e-2a9e-4ff6-91d3-0de6203f11ee",
   "metadata": {},
   "outputs": [
    {
     "data": {
      "text/plain": [
       "0.9964448727051425"
      ]
     },
     "execution_count": 21,
     "metadata": {},
     "output_type": "execute_result"
    }
   ],
   "source": [
    "(y_pred > 0).sum() / len(y_pred)"
   ]
  },
  {
   "cell_type": "code",
   "execution_count": null,
   "id": "9f11168c-8955-45c9-b4db-1dd416f77d3e",
   "metadata": {},
   "outputs": [],
   "source": []
  },
  {
   "cell_type": "code",
   "execution_count": null,
   "id": "92973c73-ff8a-4eea-99de-4311c2daeba4",
   "metadata": {},
   "outputs": [],
   "source": []
  },
  {
   "cell_type": "code",
   "execution_count": null,
   "id": "8aee60e2-a4e8-4a34-82a1-5805e804c328",
   "metadata": {},
   "outputs": [],
   "source": []
  },
  {
   "cell_type": "code",
   "execution_count": null,
   "id": "e8018a55-12f8-403a-9e96-6dce9dbfe00e",
   "metadata": {},
   "outputs": [],
   "source": [
    "import numpy as np\n",
    "import pandas as pd\n",
    "from sklearn.preprocessing import StandardScaler\n",
    "from sklearn.model_selection import train_test_split\n",
    "from tensorflow.keras.models import Sequential\n",
    "from tensorflow.keras.layers import LSTM, Dense, Dropout\n",
    "from tensorflow.keras.callbacks import EarlyStopping, ModelCheckpoint\n",
    "\n",
    "feature_cols = [col for col in df.columns if col not in ['date', 'target']]\n",
    "target_col = 'target'\n",
    "\n",
    "features = df[feature_cols].values\n",
    "target = df[target_col].values.reshape(-1, 1)\n",
    "\n",
    "scaler_X = StandardScaler()\n",
    "scaler_y = StandardScaler()\n",
    "features_scaled = scaler_X.fit_transform(features)\n",
    "target_scaled = scaler_y.fit_transform(target)\n",
    "\n",
    "def create_sequences(features, target, seq_length=1):\n",
    "    X, y = [], []\n",
    "    for i in range(len(features) - seq_length):\n",
    "        X.append(features[i:i+seq_length])\n",
    "        y.append(target[i+seq_length])\n",
    "    return np.array(X), np.array(y)\n",
    "\n",
    "# Generate the sequences\n",
    "X, y = create_sequences(features_scaled, target_scaled, seq_length=1)\n",
    "\n",
    "print(\"Shape of X:\", X.shape)\n",
    "print(\"Shape of y:\", y.shape)\n",
    "\n",
    "X_train, X_test, y_train, y_test = train_test_split(X, y, test_size=0.20, shuffle=False)\n",
    "\n",
    "print(\"Training samples:\", X_train.shape[0])\n",
    "print(\"Testing samples:\", X_test.shape[0])\n",
    "\n",
    "num_features = X_train.shape[2]\n",
    "\n",
    "model = Sequential()\n",
    "model.add(LSTM(units=50, input_shape=(seq_length, num_features), return_sequences=False))\n",
    "model.add(Dropout(0.2))\n",
    "model.add(Dense(1))\n",
    "model.compile(loss='mean_squared_error', optimizer='adam')\n",
    "\n",
    "model.summary()\n",
    "\n",
    "# -----------------------------\n",
    "# 6. Train the model\n",
    "# -----------------------------\n",
    "# Define callbacks for early stopping and saving the best model\n",
    "early_stop = EarlyStopping(monitor='val_loss', patience=5, restore_best_weights=True)\n",
    "checkpoint = ModelCheckpoint(\"lstm_model_best.h5\", monitor='val_loss', save_best_only=True, verbose=1)\n",
    "\n",
    "history = model.fit(X_train, y_train, \n",
    "                    epochs=50, \n",
    "                    batch_size=256, \n",
    "                    validation_split=0.1, \n",
    "                    callbacks=[early_stop, checkpoint],\n",
    "                    verbose=1)\n",
    "\n",
    "# -----------------------------\n",
    "# 7. Evaluate the model on test set\n",
    "# -----------------------------\n",
    "test_loss = model.evaluate(X_test, y_test)\n",
    "print(\"Test Loss (MSE):\", test_loss)\n",
    "\n",
    "# To get predictions in the original scale:\n",
    "predictions_scaled = model.predict(X_test)\n",
    "predictions = scaler_y.inverse_transform(predictions_scaled)\n",
    "\n",
    "# For comparison, you can invert y_test too:\n",
    "y_test_inversed = scaler_y.inverse_transform(y_test)\n",
    "\n",
    "# Optionally, save your model if needed\n",
    "model.save(\"lstm_model_final.h5\")"
   ]
  },
  {
   "cell_type": "code",
   "execution_count": null,
   "id": "6fe4a72a-a2ed-4951-a5a9-f1739b89369c",
   "metadata": {},
   "outputs": [],
   "source": []
  }
 ],
 "metadata": {
  "kernelspec": {
   "display_name": "Python 3 (ipykernel)",
   "language": "python",
   "name": "python3"
  },
  "language_info": {
   "codemirror_mode": {
    "name": "ipython",
    "version": 3
   },
   "file_extension": ".py",
   "mimetype": "text/x-python",
   "name": "python",
   "nbconvert_exporter": "python",
   "pygments_lexer": "ipython3",
   "version": "3.11.8"
  }
 },
 "nbformat": 4,
 "nbformat_minor": 5
}
