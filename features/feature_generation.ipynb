{
 "cells": [
  {
   "cell_type": "code",
   "execution_count": 1,
   "id": "67351c46-87b0-4274-bf22-c754679805c0",
   "metadata": {},
   "outputs": [],
   "source": [
    "import numpy as np\n",
    "import pandas as pd\n",
    "import catboost\n",
    "from datetime import date\n",
    "from data_preparation import extract_ohlcv_from_binance_data, concatenate_dataframes\n",
    "from finta import TA\n",
    "import logging\n",
    "import math\n",
    "import matplotlib.pyplot as plt\n",
    "from scipy.optimize import minimize_scalar, minimize\n",
    "from sklearn.metrics import f1_score, confusion_matrix\n",
    "from sklearn.model_selection import train_test_split"
   ]
  },
  {
   "cell_type": "code",
   "execution_count": 2,
   "id": "d945a9dd-af51-4f92-9b25-f98a9a4f8018",
   "metadata": {},
   "outputs": [],
   "source": [
    "pair1 = 'BTC_USDT'\n",
    "pair2 = 'DOT_USDT'\n",
    "data1 = pd.read_feather(f'../ft_userdata/user_data/data/binance/{pair1}-1m.feather')\n",
    "data2 = pd.read_feather(f'../ft_userdata/user_data/data/binance/{pair2}-1m.feather')"
   ]
  },
  {
   "cell_type": "code",
   "execution_count": 3,
   "id": "5cb07dad-99d7-4a5b-b721-99ed984d0ec1",
   "metadata": {},
   "outputs": [
    {
     "name": "stdout",
     "output_type": "stream",
     "text": [
      "start: 2020-08-18 23:00:00+00:00, end: 2025-04-09 17:54:00+00:00\n"
     ]
    }
   ],
   "source": [
    "start_max = max(data1['date'].iloc[0], data2['date'].iloc[0])\n",
    "end_min = min(data1['date'].iloc[-1], data2['date'].iloc[-1])\n",
    "print(f\"start: {start_max}, end: {end_min}\")"
   ]
  },
  {
   "cell_type": "code",
   "execution_count": 4,
   "id": "f06a8afd-3690-42a5-8edd-e48dbfc3e309",
   "metadata": {},
   "outputs": [],
   "source": [
    "data1 = data1[(data1['date'] >= start_max) & (data1['date'] <= end_min)]\n",
    "data2 = data2[(data2['date'] >= start_max) & (data2['date'] <= end_min)]"
   ]
  },
  {
   "cell_type": "code",
   "execution_count": 5,
   "id": "9d95bfe8-7f21-42da-b204-d599c3053d16",
   "metadata": {},
   "outputs": [],
   "source": [
    "def generate_indicators(df):\n",
    "    df.loc[:, 'prev_change'] = (df['close'] - df['close'].shift(1)) / df['close']\n",
    "    df.loc[:, 'SMA_3s'] = TA.SMA(df, period=3)\n",
    "    df.loc[:, 'SMA_10s'] = TA.SMA(df, period=10)\n",
    "    df.loc[:, 'SMA_20s'] = TA.SMA(df, period=20)\n",
    "    df.loc[:, 'SMA_50s'] = TA.SMA(df, period=50)\n",
    "    df.loc[:, 'SMA_100s'] = TA.SMA(df, period=100)\n",
    "    df.loc[:, 'SMA_200s'] = TA.SMA(df, period=200)\n",
    "\n",
    "    df.loc[:, 'EMA_3s'] = TA.EMA(df, period=5)\n",
    "    df.loc[:, 'EMA_10s'] = TA.EMA(df, period=15)\n",
    "    df.loc[:, 'EMA_20s'] = TA.EMA(df, period=25)\n",
    "    df.loc[:, 'EMA_50s'] = TA.EMA(df, period=65)\n",
    "    df.loc[:, 'EMA_100s'] = TA.EMA(df, period=130)\n",
    "    df.loc[:, 'EMA_200s'] = TA.EMA(df, period=250)\n",
    "    \n",
    "    macd = TA.MACD(df, period_fast=3, period_slow=10, signal=6)\n",
    "    df.loc[:, 'MACD_3_10s'] = macd['MACD']\n",
    "    df.loc[:, 'SIGNAL_3_10s'] = macd['SIGNAL'] \n",
    "    \n",
    "    # classic\n",
    "    macd = TA.MACD(df, period_fast=12, period_slow=26, signal=9)\n",
    "    df.loc[:, 'MACD_12_26s'] = macd['MACD']\n",
    "    df.loc[:, 'SIGNAL_12_26s'] = macd['SIGNAL'] \n",
    "    \n",
    "    macd = TA.MACD(df, period_fast=21, period_slow=45, signal=16)\n",
    "    df.loc[:, 'MACD_21_45s'] = macd['MACD']\n",
    "    df.loc[:, 'SIGNAL_21_45s'] = macd['SIGNAL'] \n",
    "    \n",
    "    macd = TA.MACD(df, period_fast=98, period_slow=180, signal=30)\n",
    "    df.loc[:, 'MACD_98_180s'] = macd['MACD']\n",
    "    df.loc[:, 'SIGNAL_98_180s'] = macd['SIGNAL'] \n",
    "    \n",
    "    df.loc[:, 'RSI_7s'] = TA.RSI(df, period=7)\n",
    "    df.loc[:, 'RSI_14s'] = TA.RSI(df, period=14)\n",
    "    df.loc[:, 'RSI_28s'] = TA.RSI(df, period=28)\n",
    "    df.loc[:, 'RSI_56s'] = TA.RSI(df, period=56)\n",
    "    \n",
    "    bbands = TA.BBANDS(df, period=15, std_multiplier=2)\n",
    "    df.loc[:, 'BBANDS_15_2_upper_diff'] = bbands['BB_UPPER'] - bbands['BB_MIDDLE'] # if negative the asset is overbought (price will go down)\n",
    "    df.loc[:, 'BBANDS_15_2_lower_diff'] = bbands['BB_MIDDLE'] - bbands['BB_LOWER'] # if negative the asset is oversold (price will go up)\n",
    "    bbands = TA.BBANDS(df, period=30, std_multiplier=2)\n",
    "    df.loc[:, 'BBANDS_30_2_upper_diff'] = bbands['BB_UPPER'] - bbands['BB_MIDDLE'] # if negative the asset is overbought (price will go down)\n",
    "    df.loc[:, 'BBANDS_30_2_lower_diff'] = bbands['BB_MIDDLE'] - bbands['BB_LOWER'] # if negative the asset is oversold (price will go up)\n",
    "    \n",
    "    df.loc[:, 'STOCH_5'] = TA.STOCH(df, period=5)\n",
    "    df.loc[:, 'STOCH_15'] = TA.STOCH(df, period=15)\n",
    "    df.loc[:, 'STOCH_50'] = TA.STOCH(df, period=50)\n",
    "    \n",
    "    df.loc[:, 'ATR_5'] = TA.ATR(df, period=5)\n",
    "    df.loc[:, 'ATR_11'] = TA.ATR(df, period=11)\n",
    "    df.loc[:, 'ATR_21'] = TA.ATR(df, period=21)\n",
    "    df.loc[:, 'ATR_81'] = TA.ATR(df, period=81)\n",
    "    \n",
    "    df.loc[:, 'CCI_50'] = TA.CCI(df, period=50, constant=0.015)\n",
    "    df.loc[:, 'CCI_100'] = TA.CCI(df, period=100, constant=0.015) # CCI > 100 => overbought, < -100 => oversold\n",
    "    df.loc[:, 'CCI_200'] = TA.CCI(df, period=200, constant=0.015)\n",
    "    \n",
    "    df.loc[:, 'ROC_10'] = TA.CCI(df, period=10)\n",
    "    df.loc[:, 'ROC_30'] = TA.CCI(df, period=30)\n",
    "    df.loc[:, 'ROC_52'] = TA.CCI(df, period=52)\n",
    "    df.loc[:, 'ROC_99'] = TA.CCI(df, period=99)\n",
    "    \n",
    "    df.loc[:, 'ADL'] = TA.ADL(df).fillna(0)\n",
    "    \n",
    "    df.loc[:, 'CHAIKIN'] = TA.CHAIKIN(df)\n",
    "    return df"
   ]
  },
  {
   "cell_type": "code",
   "execution_count": 6,
   "id": "5961a5f5-929b-4ffc-8991-85477b363c9a",
   "metadata": {},
   "outputs": [],
   "source": [
    "data1 = generate_indicators(data1)\n",
    "data2 = generate_indicators(data2)"
   ]
  },
  {
   "cell_type": "code",
   "execution_count": 7,
   "id": "63dcaddb-d769-41a3-801f-18200709814e",
   "metadata": {},
   "outputs": [],
   "source": [
    "merged_df = pd.merge(data1, data2, on='date')"
   ]
  },
  {
   "cell_type": "code",
   "execution_count": 8,
   "id": "868a3319-8ebb-4651-ba3f-8cb462d015c5",
   "metadata": {},
   "outputs": [],
   "source": [
    "df, test_df = train_test_split(merged_df, test_size=0.15, shuffle=False)\n",
    "train_df, valid_df = train_test_split(df, test_size=0.20, shuffle=False)"
   ]
  }
 ],
 "metadata": {
  "kernelspec": {
   "display_name": "Python 3 (ipykernel)",
   "language": "python",
   "name": "python3"
  },
  "language_info": {
   "codemirror_mode": {
    "name": "ipython",
    "version": 3
   },
   "file_extension": ".py",
   "mimetype": "text/x-python",
   "name": "python",
   "nbconvert_exporter": "python",
   "pygments_lexer": "ipython3",
   "version": "3.11.8"
  }
 },
 "nbformat": 4,
 "nbformat_minor": 5
}
