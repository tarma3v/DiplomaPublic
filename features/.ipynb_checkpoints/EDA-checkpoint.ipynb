{
 "cells": [
  {
   "cell_type": "code",
   "execution_count": 1,
   "id": "0689737e-1558-4f4c-8ca0-6b948ec445bf",
   "metadata": {},
   "outputs": [],
   "source": [
    "import numpy as np\n",
    "import pandas as pd\n",
    "from datetime import date, datetime\n",
    "from finta import TA\n",
    "from sklearn.model_selection import train_test_split"
   ]
  },
  {
   "cell_type": "code",
   "execution_count": 2,
   "id": "2ed234a5-da31-4bd0-8d1f-6eabbf9dfca3",
   "metadata": {},
   "outputs": [
    {
     "name": "stdout",
     "output_type": "stream",
     "text": [
      "ADA_USDT: start: 2018-04-17 04:02:00+00:00, end: 2024-04-02 01:44:00+00:00\n",
      "AVAX_USDT: start: 2020-09-22 06:30:00+00:00, end: 2024-08-13 03:10:00+00:00\n",
      "BCH_USDT: start: 2019-11-28 10:00:00+00:00, end: 2024-06-29 09:33:00+00:00\n",
      "BNB_USDT: start: 2017-11-06 03:54:00+00:00, end: 2024-03-09 04:06:00+00:00\n",
      "BTC_USDT: start: 2018-06-05 00:00:00+00:00, end: 2024-03-31 01:34:00+00:00\n",
      "DOGE_USDT: start: 2019-07-05 12:00:00+00:00, end: 2024-06-07 10:43:00+00:00\n",
      "DOT_USDT: start: 2020-08-18 23:00:00+00:00, end: 2024-08-07 20:56:00+00:00\n",
      "ETH_USDT: start: 2018-06-05 00:00:00+00:00, end: 2024-03-31 01:44:00+00:00\n",
      "HBAR_USDT: start: 2019-09-29 04:00:00+00:00, end: 2024-06-20 09:19:00+00:00\n",
      "LINK_USDT: start: 2019-01-16 10:00:00+00:00, end: 2024-05-13 00:47:00+00:00\n",
      "LTC_USDT: start: 2017-12-13 03:32:00+00:00, end: 2024-03-14 17:07:00+00:00\n",
      "SHIB_USDT: start: 2021-05-10 11:00:00+00:00, end: 2024-09-16 13:25:00+00:00\n",
      "SOL_USDT: start: 2020-08-11 06:00:00+00:00, end: 2024-07-28 10:10:00+00:00\n",
      "SUI_USDT: start: 2023-05-03 12:00:00+00:00, end: 2025-01-02 23:11:00+00:00\n",
      "TON_USDT: start: 2024-08-08 10:00:00+00:00, end: 2025-03-13 09:41:00+00:00\n",
      "TRX_USDT: start: 2018-06-11 11:30:00+00:00, end: 2024-04-01 02:13:00+00:00\n",
      "XLM_USDT: start: 2018-05-31 09:30:00+00:00, end: 2024-04-08 20:46:00+00:00\n",
      "XRP_USDT: start: 2018-06-05 00:00:00+00:00, end: 2024-03-30 16:53:00+00:00\n"
     ]
    }
   ],
   "source": [
    "pairs = ['ADA_USDT', 'AVAX_USDT', 'BCH_USDT', 'BNB_USDT', 'BTC_USDT', 'DOGE_USDT', \n",
    "         'DOT_USDT', 'ETH_USDT', 'HBAR_USDT', 'LINK_USDT', 'LTC_USDT', 'SHIB_USDT', \n",
    "         'SOL_USDT', 'SUI_USDT', 'TON_USDT', 'TRX_USDT', 'XLM_USDT', 'XRP_USDT']\n",
    "pair_data = []\n",
    "for pair in pairs:\n",
    "    df = pd.read_feather(f'../ft_userdata/user_data/data/binance/{pair}-1m.feather')\n",
    "    df, test_df = train_test_split(df, test_size=0.15, shuffle=False) # не хотим подглядеть в будущее\n",
    "    print(f\"{pair}: start: {df['date'].iloc[0]}, end: {df['date'].iloc[-1]}\")\n",
    "    pair_data.append(df)"
   ]
  },
  {
   "cell_type": "code",
   "execution_count": 3,
   "id": "3b117305-ef3f-41c9-a75b-0de24b71582f",
   "metadata": {},
   "outputs": [
    {
     "name": "stdout",
     "output_type": "stream",
     "text": [
      "start: 2024-08-08 10:00:00+00:00, end: 2024-03-09 04:06:00+00:00\n"
     ]
    }
   ],
   "source": [
    "start_max = pair_data[0]['date'].iloc[0]\n",
    "end_min = pair_data[0]['date'].iloc[-1]\n",
    "for df in pair_data:\n",
    "    start_max = max(df['date'].iloc[0], start_max)\n",
    "    end_min = min(df['date'].iloc[-1], end_min)\n",
    "print(f\"start: {start_max}, end: {end_min}\")"
   ]
  },
  {
   "cell_type": "code",
   "execution_count": 4,
   "id": "63143b6f-aa22-40cc-9eed-7fe99eb9fcdf",
   "metadata": {},
   "outputs": [],
   "source": [
    "def generate_target_classification(df, fee = 0.001):\n",
    "    df['is_big_increase'] = (df['close'].shift(-1) / df['close']) > 1 + 2 * fee\n",
    "    df['is_drawdown'] = (df['close'].shift(-1) / df['close']) < 1\n",
    "    return df"
   ]
  },
  {
   "cell_type": "code",
   "execution_count": 5,
   "id": "d2b4d8bb-84e3-4c6a-9c9e-7b0f610a40d6",
   "metadata": {},
   "outputs": [
    {
     "name": "stdout",
     "output_type": "stream",
     "text": [
      "Доля изменения цены на >= 2 п.п. вверх для каждой пары\n",
      "Пара: ADA_USDT  - 31.09%\n",
      "Пара: AVAX_USDT - 35.02%\n",
      "Пара: BCH_USDT  - 30.57%\n",
      "Пара: BNB_USDT  - 29.14%\n",
      "Пара: BTC_USDT  - 22.33%\n",
      "Пара: DOGE_USDT - 27.42%\n",
      "Пара: DOT_USDT  - 31.53%\n",
      "Пара: ETH_USDT  - 26.29%\n",
      "Пара: HBAR_USDT - 28.08%\n",
      "Пара: LINK_USDT - 32.11%\n",
      "Пара: LTC_USDT  - 30.55%\n",
      "Пара: SHIB_USDT - 33.32%\n",
      "Пара: SOL_USDT  - 35.77%\n",
      "Пара: SUI_USDT  - 34.53%\n",
      "Пара: TON_USDT  - 28.14%\n",
      "Пара: TRX_USDT  - 26.66%\n",
      "Пара: XLM_USDT  - 30.70%\n",
      "Пара: XRP_USDT  - 28.19%\n",
      "\n",
      "Доля изменения цены на >= 20 п.п. вверх для каждой пары\n",
      "Пара: ADA_USDT  - 1.29%\n",
      "Пара: AVAX_USDT - 2.17%\n",
      "Пара: BCH_USDT  - 1.05%\n",
      "Пара: BNB_USDT  - 1.36%\n",
      "Пара: BTC_USDT  - 0.37%\n",
      "Пара: DOGE_USDT - 1.94%\n",
      "Пара: DOT_USDT  - 1.43%\n",
      "Пара: ETH_USDT  - 0.67%\n",
      "Пара: HBAR_USDT - 2.70%\n",
      "Пара: LINK_USDT - 1.95%\n",
      "Пара: LTC_USDT  - 1.29%\n",
      "Пара: SHIB_USDT - 1.84%\n",
      "Пара: SOL_USDT  - 2.24%\n",
      "Пара: SUI_USDT  - 1.40%\n",
      "Пара: TON_USDT  - 0.46%\n",
      "Пара: TRX_USDT  - 0.93%\n",
      "Пара: XLM_USDT  - 1.27%\n",
      "Пара: XRP_USDT  - 1.21%\n",
      "\n",
      "Доля изменения цены на >= 40 п.п. вверх для каждой пары\n",
      "Пара: ADA_USDT  - 0.17%\n",
      "Пара: AVAX_USDT - 0.35%\n",
      "Пара: BCH_USDT  - 0.16%\n",
      "Пара: BNB_USDT  - 0.34%\n",
      "Пара: BTC_USDT  - 0.05%\n",
      "Пара: DOGE_USDT - 0.44%\n",
      "Пара: DOT_USDT  - 0.20%\n",
      "Пара: ETH_USDT  - 0.09%\n",
      "Пара: HBAR_USDT - 0.50%\n",
      "Пара: LINK_USDT - 0.29%\n",
      "Пара: LTC_USDT  - 0.22%\n",
      "Пара: SHIB_USDT - 0.41%\n",
      "Пара: SOL_USDT  - 0.39%\n",
      "Пара: SUI_USDT  - 0.14%\n",
      "Пара: TON_USDT  - 0.06%\n",
      "Пара: TRX_USDT  - 0.12%\n",
      "Пара: XLM_USDT  - 0.19%\n",
      "Пара: XRP_USDT  - 0.22%\n",
      "\n"
     ]
    }
   ],
   "source": [
    "for num_bps in [1, 8, 10]:\n",
    "    fee = num_bps * 0.0001 # 10 процентных пунктов\n",
    "    print(f'Доля изменения цены на >= {2 * num_bps} п.п. вверх для каждой пары')\n",
    "    for df, pair in zip(pair_data, pairs):\n",
    "        df = generate_target_classification(df, 2*fee)\n",
    "        big_increase_ratio = 100 * df['is_big_increase'].sum() / len(df)\n",
    "        print(f\"Пара: {pair:<9} - {big_increase_ratio:.2f}%\")\n",
    "    print(\"\")"
   ]
  },
  {
   "cell_type": "code",
   "execution_count": null,
   "id": "892c3e0e-c27c-4f3d-91b5-8b4526b0622d",
   "metadata": {},
   "outputs": [],
   "source": []
  }
 ],
 "metadata": {
  "kernelspec": {
   "display_name": "Python 3 (ipykernel)",
   "language": "python",
   "name": "python3"
  },
  "language_info": {
   "codemirror_mode": {
    "name": "ipython",
    "version": 3
   },
   "file_extension": ".py",
   "mimetype": "text/x-python",
   "name": "python",
   "nbconvert_exporter": "python",
   "pygments_lexer": "ipython3",
   "version": "3.11.8"
  }
 },
 "nbformat": 4,
 "nbformat_minor": 5
}
