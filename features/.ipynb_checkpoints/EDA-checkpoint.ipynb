{
 "cells": [
  {
   "cell_type": "code",
   "execution_count": 1,
   "id": "0689737e-1558-4f4c-8ca0-6b948ec445bf",
   "metadata": {},
   "outputs": [],
   "source": [
    "import numpy as np\n",
    "import pandas as pd\n",
    "from datetime import date, datetime\n",
    "from data_preparation import extract_ohlcv_from_binance_data, concatenate_dataframes\n",
    "from finta import TA\n",
    "from sklearn.model_selection import train_test_split"
   ]
  },
  {
   "cell_type": "code",
   "execution_count": 2,
   "id": "2ed234a5-da31-4bd0-8d1f-6eabbf9dfca3",
   "metadata": {},
   "outputs": [],
   "source": [
    "pairs = ['ADA_USDT', 'BTC_USDT', 'DOGE_USDT', 'DOT_USDT', 'ETH_USDT', 'LINK_USDT', 'SOL_USDT', 'TRX_USDT', 'XRP_USDT']\n",
    "pair_data = []\n",
    "for pair in pairs:\n",
    "    df = pd.read_feather(f'../ft_userdata/user_data/data/binance/{pair}-1m.feather')\n",
    "    df, test_df = train_test_split(df, test_size=0.15, shuffle=False) # не хотим подглядеть в будущее\n",
    "    pair_data.append(df)"
   ]
  },
  {
   "cell_type": "code",
   "execution_count": 3,
   "id": "3b117305-ef3f-41c9-a75b-0de24b71582f",
   "metadata": {},
   "outputs": [
    {
     "name": "stdout",
     "output_type": "stream",
     "text": [
      "start: 2020-08-18 23:00:00+00:00, end: 2024-03-30 16:53:00+00:00\n"
     ]
    }
   ],
   "source": [
    "start_max = pair_data[0]['date'].iloc[0]\n",
    "end_min = pair_data[0]['date'].iloc[-1]\n",
    "for df in pair_data:\n",
    "    start_max = max(df['date'].iloc[0], start_max)\n",
    "    end_min = min(df['date'].iloc[-1], end_min)\n",
    "print(f\"start: {start_max}, end: {end_min}\")"
   ]
  },
  {
   "cell_type": "code",
   "execution_count": 4,
   "id": "63143b6f-aa22-40cc-9eed-7fe99eb9fcdf",
   "metadata": {},
   "outputs": [],
   "source": [
    "def generate_target_classification(df, fee = 0.001):\n",
    "    df['is_big_increase'] = (df['close'].shift(-1) / df['close']) > 1 + 2 * fee\n",
    "    df['is_drawdown'] = (df['close'].shift(-1) / df['close']) < 1\n",
    "    return df"
   ]
  },
  {
   "cell_type": "code",
   "execution_count": 5,
   "id": "7d92ef1e-1117-4f1d-a33d-211b7fbc3199",
   "metadata": {},
   "outputs": [
    {
     "name": "stdout",
     "output_type": "stream",
     "text": [
      "Доля изменения цены на >= 10 п.п. вверх для каждой пары\n",
      "Пара: ADA_USDT  - 5.82%\n",
      "Пара: BTC_USDT  - 2.05%\n",
      "Пара: DOGE_USDT - 6.53%\n",
      "Пара: DOT_USDT  - 6.33%\n",
      "Пара: ETH_USDT  - 3.42%\n",
      "Пара: LINK_USDT - 7.53%\n",
      "Пара: SOL_USDT  - 8.45%\n",
      "Пара: TRX_USDT  - 4.10%\n",
      "Пара: XRP_USDT  - 4.63%\n"
     ]
    }
   ],
   "source": [
    "num_bps = 10\n",
    "fee = num_bps * 0.0001 # 10 процентных пунктов\n",
    "print(f'Доля изменения цены на >= {num_bps} п.п. вверх для каждой пары')\n",
    "for df, pair in zip(pair_data, pairs):\n",
    "    df = generate_target_classification(df, fee)\n",
    "    big_increase_ratio = 100 * df['is_big_increase'].sum() / len(df)\n",
    "    print(f\"Пара: {pair:<9} - {big_increase_ratio:.2f}%\")"
   ]
  },
  {
   "cell_type": "code",
   "execution_count": null,
   "id": "9e0a9a11-b2ab-4ccd-92c2-b643ed6d2d19",
   "metadata": {},
   "outputs": [],
   "source": []
  }
 ],
 "metadata": {
  "kernelspec": {
   "display_name": "Python 3 (ipykernel)",
   "language": "python",
   "name": "python3"
  },
  "language_info": {
   "codemirror_mode": {
    "name": "ipython",
    "version": 3
   },
   "file_extension": ".py",
   "mimetype": "text/x-python",
   "name": "python",
   "nbconvert_exporter": "python",
   "pygments_lexer": "ipython3",
   "version": "3.11.8"
  }
 },
 "nbformat": 4,
 "nbformat_minor": 5
}
